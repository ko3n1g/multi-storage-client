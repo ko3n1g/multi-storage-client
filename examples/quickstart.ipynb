{
 "cells": [
  {
   "cell_type": "markdown",
   "id": "3d990f0a-5a17-46f0-a9c0-8f20ce438e1c",
   "metadata": {},
   "source": [
    "# Quick Start"
   ]
  },
  {
   "cell_type": "markdown",
   "id": "4c72571c-69e2-4198-9f18-507df598170a",
   "metadata": {},
   "source": [
    "## Create Configuration File\n",
    "\n",
    "First, create a configuration file to define your storage providers. The default configuration file is located at `~/.msc_config.yaml`, but you can specify a different path using the `MSC_CONFIG` environment variable.\n",
    "\n",
    "```yaml\n",
    "  profiles:\n",
    "    swift-pdx:\n",
    "      storage_provider:\n",
    "        type: s3\n",
    "        options:\n",
    "          region_name: us-east-1\n",
    "          endpoint_url: https://pdx.s8k.io\n",
    "          base_path: webdataset_samples\n",
    "      credentials_provider:\n",
    "        type: S3Credentials\n",
    "        options:\n",
    "          access_key: *****\n",
    "          secret_key: *****\n",
    "    swift-pbss:\n",
    "      storage_provider:\n",
    "        type: s3\n",
    "        options:\n",
    "          region_name: us-east-1\n",
    "          endpoint_url: https://pbss.s8k.io\n",
    "          base_path: zarr_examples\n",
    "      credentials_provider:\n",
    "        type: S3Credentials\n",
    "        options:\n",
    "          access_key: *****\n",
    "          secret_key: *****\n",
    "```"
   ]
  },
  {
   "cell_type": "markdown",
   "id": "dc77543d-a433-456b-8f7c-73f43e61b2c0",
   "metadata": {},
   "source": [
    "## List Files\n",
    "\n",
    "Once your configuration is in place, you can access files using `msc.open` and `msc.glob` functions."
   ]
  },
  {
   "cell_type": "code",
   "execution_count": 1,
   "id": "fb3d518f-5df4-4ae0-829e-21fc6c46bd25",
   "metadata": {},
   "outputs": [
    {
     "data": {
      "text/plain": [
       "['msc://swift-pdx/dataset_000.tar',\n",
       " 'msc://swift-pdx/dataset_001.tar',\n",
       " 'msc://swift-pdx/dataset_002.tar',\n",
       " 'msc://swift-pdx/dataset_003.tar',\n",
       " 'msc://swift-pdx/dataset_004.tar',\n",
       " 'msc://swift-pdx/dataset_005.tar',\n",
       " 'msc://swift-pdx/dataset_006.tar',\n",
       " 'msc://swift-pdx/dataset_007.tar',\n",
       " 'msc://swift-pdx/dataset_008.tar',\n",
       " 'msc://swift-pdx/dataset_009.tar']"
      ]
     },
     "execution_count": 1,
     "metadata": {},
     "output_type": "execute_result"
    }
   ],
   "source": [
    "import multistorageclient as msc\n",
    "\n",
    "files = msc.glob(\"msc://swift-pdx/*.tar\")\n",
    "files[:10]"
   ]
  },
  {
   "cell_type": "markdown",
   "id": "bfa8c84a-dae2-4a49-815c-c59ee21bfff4",
   "metadata": {},
   "source": [
    "## Open File - Read"
   ]
  },
  {
   "cell_type": "code",
   "execution_count": 2,
   "id": "2ef3a797-55f8-44c2-84e2-d2e0fc89d593",
   "metadata": {},
   "outputs": [
    {
     "name": "stdout",
     "output_type": "stream",
     "text": [
      "File Size = 62986240, Content = b'././@PaxHeader\\x00\\x00\\x00\\x00\\x00\\x00\\x00\\x00\\x00\\x00\\x00\\x00\\x00\\x00\\x00\\x00\\x00\\x00\\x00\\x00\\x00\\x00\\x00\\x00\\x00\\x00\\x00\\x00\\x00\\x00\\x00\\x00\\x00\\x00\\x00\\x00\\x00\\x00\\x00\\x00\\x00\\x00\\x00\\x00\\x00\\x00\\x00\\x00\\x00\\x00\\x00\\x00\\x00\\x00\\x00\\x00\\x00\\x00\\x00\\x00\\x00\\x00\\x00\\x00\\x00\\x00'...\n"
     ]
    }
   ],
   "source": [
    "with msc.open(\"msc://swift-pdx/dataset_000.tar\", \"rb\") as fp:\n",
    "    content = fp.read()\n",
    "\n",
    "print(f\"File Size = {len(content)}, Content = {content[:80]}...\")"
   ]
  },
  {
   "cell_type": "markdown",
   "id": "7a9da9b3-86e9-4451-8d54-8f192fe2aa94",
   "metadata": {},
   "source": [
    "## Open File - Write"
   ]
  },
  {
   "cell_type": "code",
   "execution_count": 3,
   "id": "1f7f06c5-4891-48f8-9801-58388be2b54b",
   "metadata": {},
   "outputs": [
    {
     "name": "stdout",
     "output_type": "stream",
     "text": [
      "File Size = 33554432, Content = b'AAAAAAAAAAAAAAAAAAAAAAAAAAAAAAAAAAAAAAAAAAAAAAAAAAAAAAAAAAAAAAAAAAAAAAAAAAAAAAAA'...\n"
     ]
    }
   ],
   "source": [
    "# 32mb file\n",
    "body = b\"A\" * 32 * 1024 * 1024\n",
    "\n",
    "with msc.open(\"msc://swift-pdx/testfile.bin\", \"wb\") as fp:\n",
    "    fp.write(body)\n",
    "\n",
    "with msc.open(\"msc://swift-pdx/testfile.bin\", \"rb\") as fp:\n",
    "    content = fp.read()\n",
    "\n",
    "print(f\"File Size = {len(content)}, Content = {content[:80]}...\")"
   ]
  },
  {
   "cell_type": "code",
   "execution_count": 4,
   "id": "8762b14a-0c89-4fd7-9fce-faa09bb7fe4b",
   "metadata": {},
   "outputs": [
    {
     "data": {
      "text/plain": [
       "['msc://swift-pdx/testfile.bin']"
      ]
     },
     "execution_count": 4,
     "metadata": {},
     "output_type": "execute_result"
    }
   ],
   "source": [
    "msc.glob(\"msc://swift-pdx/*.bin\")"
   ]
  },
  {
   "cell_type": "markdown",
   "id": "7209a4d5-1d14-44f4-9414-5c8071d584b6",
   "metadata": {},
   "source": [
    "# Framework Integration"
   ]
  },
  {
   "cell_type": "markdown",
   "id": "c5985b62-c953-4a40-ac50-ea762eb79475",
   "metadata": {},
   "source": [
    "## Use Webdataset"
   ]
  },
  {
   "cell_type": "code",
   "execution_count": null,
   "id": "31151148-6ba8-4c8a-acd9-050f967377eb",
   "metadata": {},
   "outputs": [],
   "source": [
    "import webdataset as wds\n",
    "\n",
    "w = wds.WebDataset(\"msc://swift-pdx/dataset_{000..010}.tar\").shuffle(True)\n",
    "\n",
    "for data in w:\n",
    "    print(data)\n",
    "    break"
   ]
  },
  {
   "cell_type": "markdown",
   "id": "df186f65-8186-433f-8443-9b71a8b48068",
   "metadata": {},
   "source": [
    "## Use Megatron-Energon"
   ]
  },
  {
   "cell_type": "code",
   "execution_count": null,
   "id": "2bb84c60-49c6-426f-9c2a-e1d702ca9939",
   "metadata": {},
   "outputs": [],
   "source": [
    "from megatron.energon import get_train_dataset, get_loader\n",
    "\n",
    "dataset_name = \"msc://swift-pdx/\"\n",
    "\n",
    "train_loader = get_loader(\n",
    "    get_train_dataset(\n",
    "        dataset_name,\n",
    "        batch_size=64,\n",
    "        shuffle_buffer_size=None,\n",
    "        max_samples_per_sequence=None,\n",
    "    )\n",
    ")\n",
    "\n",
    "train_loader = iter(train_loader)\n",
    "for i in range(10):\n",
    "    _ = next(train_loader)\n",
    "    print(f\"Step = {i}\")\n",
    "    break"
   ]
  },
  {
   "cell_type": "markdown",
   "id": "2a6d22f3",
   "metadata": {},
   "source": [
    "## Use Zarr"
   ]
  },
  {
   "cell_type": "code",
   "execution_count": 23,
   "id": "8f31adf9",
   "metadata": {},
   "outputs": [
    {
     "name": "stdout",
     "output_type": "stream",
     "text": [
      "zarr_array = <zarr.core.Array (4, 4) float32>\n",
      "zarr_array_opened = <zarr.core.Array (4, 4) float32>\n",
      "zarr_group = <zarr.hierarchy.Group '/'>\n",
      "zarr_group.array1: [[1. 0. 0. 0.]\n",
      " [0. 1. 0. 0.]\n",
      " [0. 0. 1. 0.]\n",
      " [0. 0. 0. 1.]]\n",
      "zarr_group_opened structure: <zarr.hierarchy.Group '/'>\n",
      "zarr_group_opened.array1: [[1. 0. 0. 0.]\n",
      " [0. 1. 0. 0.]\n",
      " [0. 0. 1. 0.]\n",
      " [0. 0. 0. 1.]]\n"
     ]
    }
   ],
   "source": [
    "import zarr\n",
    "import numpy as np\n",
    "\n",
    "# Create a Zarr array in your PBSS account under bucket zarr_examples\n",
    "zarr_array = zarr.create(shape=(4, 4), dtype=\"float32\", store=\"msc://swift-pbss/array.zarr\", overwrite=True)\n",
    "\n",
    "print(f'zarr_array = {zarr_array}')\n",
    "\n",
    "# Open a Zarr array in your PBSS account under bucket zarr_examples\n",
    "zarr_array_opened = zarr.open(\"msc://swift-pbss/array.zarr\")\n",
    "\n",
    "print(f'zarr_array_opened = {zarr_array_opened}')\n",
    "\n",
    "# Create a Zarr group with 2 arrays in your PBSS account under bucket zarr_examples\n",
    "zarr_group = zarr.open_group(\"msc://swift-pbss/group.zarr\", mode=\"w\")\n",
    "zarr_group.create_dataset(\"array1\", shape=(4, 4), dtype=\"float32\", data=np.eye(4), overwrite=True)\n",
    "zarr_group.create_dataset(\"array2\", shape=(8, 8), dtype=\"float64\", overwrite=True)\n",
    "\n",
    "print(f'zarr_group = {zarr_group}')\n",
    "print(f'zarr_group.array1: {zarr_group[\"array1\"][:]}')\n",
    "\n",
    "# Open a Zarr group in your PBSS account under bucket zarr_examples\n",
    "zarr_group_opened = zarr.open(\"msc://swift-pbss/group.zarr\")\n",
    "\n",
    "print(f'zarr_group_opened structure: {zarr_group_opened}')\n",
    "print(f'zarr_group_opened.array1: {zarr_group_opened[\"array1\"][:]}')"
   ]
  }
 ],
 "metadata": {
  "kernelspec": {
   "display_name": "Python 3 (ipykernel)",
   "language": "python",
   "name": "python3"
  },
  "language_info": {
   "codemirror_mode": {
    "name": "ipython",
    "version": 3
   },
   "file_extension": ".py",
   "mimetype": "text/x-python",
   "name": "python",
   "nbconvert_exporter": "python",
   "pygments_lexer": "ipython3",
   "version": "3.10.13"
  }
 },
 "nbformat": 4,
 "nbformat_minor": 5
}
