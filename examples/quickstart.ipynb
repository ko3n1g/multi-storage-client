{
 "cells": [
  {
   "cell_type": "markdown",
   "id": "3d990f0a-5a17-46f0-a9c0-8f20ce438e1c",
   "metadata": {},
   "source": [
    "# Quick Start"
   ]
  },
  {
   "cell_type": "markdown",
   "id": "4c72571c-69e2-4198-9f18-507df598170a",
   "metadata": {},
   "source": [
    "## Create Configuration File\n",
    "\n",
    "First, create a configuration file to define your storage providers. The default configuration file is located at `~/.msc_config.yaml`, but you can specify a different path using the `MSC_CONFIG` environment variable.\n",
    "\n",
    "```yaml\n",
    "profiles:\n",
    "  s3-iad-webdataset:\n",
    "    storage_provider:\n",
    "      type: s3\n",
    "      options:\n",
    "        region_name: us-east-1\n",
    "        base_path: webdataset_samples\n",
    "    credentials_provider:\n",
    "      type: S3Credentials\n",
    "      options:\n",
    "        access_key: *****\n",
    "        secret_key: *****\n",
    "  s3-pdx-zarr:\n",
    "    storage_provider:\n",
    "      type: s3\n",
    "      options:\n",
    "        region_name: us-west-2\n",
    "        base_path: zarr_examples\n",
    "    credentials_provider:\n",
    "      type: S3Credentials\n",
    "      options:\n",
    "        access_key: *****\n",
    "        secret_key: *****\n",
    "```"
   ]
  },
  {
   "cell_type": "markdown",
   "id": "dc77543d-a433-456b-8f7c-73f43e61b2c0",
   "metadata": {},
   "source": [
    "## List Files\n",
    "\n",
    "Once your configuration is in place, you can access files using `msc.open` and `msc.glob` functions."
   ]
  },
  {
   "cell_type": "code",
   "execution_count": 2,
   "id": "fb3d518f-5df4-4ae0-829e-21fc6c46bd25",
   "metadata": {},
   "outputs": [
    {
     "data": {
      "text/plain": [
       "['msc://s3-iad-webdataset/dataset_000.tar',\n",
       " 'msc://s3-iad-webdataset/dataset_001.tar',\n",
       " 'msc://s3-iad-webdataset/dataset_002.tar',\n",
       " 'msc://s3-iad-webdataset/dataset_003.tar',\n",
       " 'msc://s3-iad-webdataset/dataset_004.tar',\n",
       " 'msc://s3-iad-webdataset/dataset_005.tar',\n",
       " 'msc://s3-iad-webdataset/dataset_006.tar',\n",
       " 'msc://s3-iad-webdataset/dataset_007.tar',\n",
       " 'msc://s3-iad-webdataset/dataset_008.tar',\n",
       " 'msc://s3-iad-webdataset/dataset_009.tar']"
      ]
     },
     "execution_count": 2,
     "metadata": {},
     "output_type": "execute_result"
    }
   ],
   "source": [
    "import multistorageclient as msc\n",
    "\n",
    "files = msc.glob(\"msc://s3-iad-webdataset/*.tar\")\n",
    "files[:10]"
   ]
  },
  {
   "cell_type": "markdown",
   "id": "bfa8c84a-dae2-4a49-815c-c59ee21bfff4",
   "metadata": {},
   "source": [
    "## Open File - Read"
   ]
  },
  {
   "cell_type": "code",
   "execution_count": 3,
   "id": "2ef3a797-55f8-44c2-84e2-d2e0fc89d593",
   "metadata": {},
   "outputs": [
    {
     "name": "stdout",
     "output_type": "stream",
     "text": [
      "File Size = 62986240, Content = b'././@PaxHeader\\x00\\x00\\x00\\x00\\x00\\x00\\x00\\x00\\x00\\x00\\x00\\x00\\x00\\x00\\x00\\x00\\x00\\x00\\x00\\x00\\x00\\x00\\x00\\x00\\x00\\x00\\x00\\x00\\x00\\x00\\x00\\x00\\x00\\x00\\x00\\x00\\x00\\x00\\x00\\x00\\x00\\x00\\x00\\x00\\x00\\x00\\x00\\x00\\x00\\x00\\x00\\x00\\x00\\x00\\x00\\x00\\x00\\x00\\x00\\x00\\x00\\x00\\x00\\x00\\x00\\x00'...\n"
     ]
    }
   ],
   "source": [
    "with msc.open(\"msc://s3-iad-webdataset/dataset_000.tar\", \"rb\") as fp:\n",
    "    content = fp.read()\n",
    "\n",
    "print(f\"File Size = {len(content)}, Content = {content[:80]}...\")"
   ]
  },
  {
   "cell_type": "markdown",
   "id": "7a9da9b3-86e9-4451-8d54-8f192fe2aa94",
   "metadata": {},
   "source": [
    "## Open File - Write"
   ]
  },
  {
   "cell_type": "code",
   "execution_count": 4,
   "id": "1f7f06c5-4891-48f8-9801-58388be2b54b",
   "metadata": {},
   "outputs": [
    {
     "name": "stdout",
     "output_type": "stream",
     "text": [
      "File Size = 33554432, Content = b'AAAAAAAAAAAAAAAAAAAAAAAAAAAAAAAAAAAAAAAAAAAAAAAAAAAAAAAAAAAAAAAAAAAAAAAAAAAAAAAA'...\n"
     ]
    }
   ],
   "source": [
    "# 32mb file\n",
    "body = b\"A\" * 32 * 1024 * 1024\n",
    "\n",
    "with msc.open(\"msc://s3-iad-webdataset/testfile.bin\", \"wb\") as fp:\n",
    "    fp.write(body)\n",
    "\n",
    "with msc.open(\"msc://s3-iad-webdataset/testfile.bin\", \"rb\") as fp:\n",
    "    content = fp.read()\n",
    "\n",
    "print(f\"File Size = {len(content)}, Content = {content[:80]}...\")"
   ]
  },
  {
   "cell_type": "code",
   "execution_count": 5,
   "id": "8762b14a-0c89-4fd7-9fce-faa09bb7fe4b",
   "metadata": {},
   "outputs": [
    {
     "data": {
      "text/plain": [
       "['msc://s3-iad-webdataset/testfile.bin']"
      ]
     },
     "execution_count": 5,
     "metadata": {},
     "output_type": "execute_result"
    }
   ],
   "source": [
    "msc.glob(\"msc://s3-iad-webdataset/*.bin\")"
   ]
  },
  {
   "cell_type": "markdown",
   "id": "7209a4d5-1d14-44f4-9414-5c8071d584b6",
   "metadata": {},
   "source": [
    "# Framework Integration"
   ]
  },
  {
   "cell_type": "markdown",
   "id": "2a6d22f3",
   "metadata": {},
   "source": [
    "## Use Zarr"
   ]
  },
  {
   "cell_type": "code",
   "execution_count": 1,
   "id": "8f31adf9",
   "metadata": {},
   "outputs": [
    {
     "name": "stdout",
     "output_type": "stream",
     "text": [
      "zarr_array = <zarr.core.Array (4, 4) float32>\n",
      "zarr_array_opened = <zarr.core.Array (4, 4) float32>\n",
      "zarr_group = <zarr.hierarchy.Group '/'>\n",
      "zarr_group.array1: [[1. 0. 0. 0.]\n",
      " [0. 1. 0. 0.]\n",
      " [0. 0. 1. 0.]\n",
      " [0. 0. 0. 1.]]\n",
      "zarr_group_opened structure: <zarr.hierarchy.Group '/'>\n",
      "zarr_group_opened.array1: [[1. 0. 0. 0.]\n",
      " [0. 1. 0. 0.]\n",
      " [0. 0. 1. 0.]\n",
      " [0. 0. 0. 1.]]\n"
     ]
    }
   ],
   "source": [
    "import zarr\n",
    "import numpy as np\n",
    "\n",
    "# Create a zarr array and store the data in S3 bucket\n",
    "zarr_array = zarr.create(shape=(4, 4), dtype=\"float32\", store=\"msc://s3-pdx-zarr/array.zarr\", overwrite=True)\n",
    "\n",
    "print(f\"zarr_array = {zarr_array}\")\n",
    "\n",
    "# Open the zarr array on S3\n",
    "zarr_array_opened = zarr.open(\"msc://s3-pdx-zarr/array.zarr\")\n",
    "\n",
    "print(f\"zarr_array_opened = {zarr_array_opened}\")\n",
    "\n",
    "# Create a zarr group with two arrays\n",
    "zarr_group = zarr.open_group(\"msc://s3-pdx-zarr/group.zarr\", mode=\"w\")\n",
    "zarr_group.create_dataset(\"array1\", shape=(4, 4), dtype=\"float32\", data=np.eye(4), overwrite=True)\n",
    "zarr_group.create_dataset(\"array2\", shape=(8, 8), dtype=\"float64\", overwrite=True)\n",
    "\n",
    "print(f\"zarr_group = {zarr_group}\")\n",
    "print(f\"zarr_group.array1: {zarr_group['array1'][:]}\")\n",
    "\n",
    "# Open the zarr group on S3\n",
    "zarr_group_opened = zarr.open(\"msc://s3-pdx-zarr/group.zarr\")\n",
    "\n",
    "print(f\"zarr_group_opened structure: {zarr_group_opened}\")\n",
    "print(f\"zarr_group_opened.array1: {zarr_group_opened['array1'][:]}\")"
   ]
  }
 ],
 "metadata": {
  "kernelspec": {
   "display_name": "Python 3 (ipykernel)",
   "language": "python",
   "name": "python3"
  },
  "language_info": {
   "codemirror_mode": {
    "name": "ipython",
    "version": 3
   },
   "file_extension": ".py",
   "mimetype": "text/x-python",
   "name": "python",
   "nbconvert_exporter": "python",
   "pygments_lexer": "ipython3",
   "version": "3.12.7"
  }
 },
 "nbformat": 4,
 "nbformat_minor": 5
}
